{
  "nbformat": 4,
  "nbformat_minor": 0,
  "metadata": {
    "colab": {
      "provenance": [],
      "authorship_tag": "ABX9TyOYajawEREwXu8JxwG+c9ty",
      "include_colab_link": true
    },
    "kernelspec": {
      "name": "python3",
      "display_name": "Python 3"
    },
    "language_info": {
      "name": "python"
    }
  },
  "cells": [
    {
      "cell_type": "markdown",
      "metadata": {
        "id": "view-in-github",
        "colab_type": "text"
      },
      "source": [
        "<a href=\"https://colab.research.google.com/github/adithya207/DEEPLEARNING1/blob/main/deep_learning.ipynb\" target=\"_parent\"><img src=\"https://colab.research.google.com/assets/colab-badge.svg\" alt=\"Open In Colab\"/></a>"
      ]
    },
    {
      "cell_type": "code",
      "execution_count": null,
      "metadata": {
        "colab": {
          "base_uri": "https://localhost:8080/"
        },
        "id": "KHEvVduWBhDA",
        "outputId": "7605f259-727b-421b-8a64-a41d82159e48"
      },
      "outputs": [
        {
          "output_type": "stream",
          "name": "stdout",
          "text": [
            "primes: tf.Tensor([ 2  3  5  7 11 13], shape=(6,), dtype=int32)\n",
            "ones: tf.Tensor([1 1 1 1 1 1], shape=(6,), dtype=int32)\n",
            "just_beyond_primes: tf.Tensor([ 3  4  6  8 12 14], shape=(6,), dtype=int32)\n",
            "primes_doubled: tf.Tensor([ 4  6 10 14 22 26], shape=(6,), dtype=int32)\n",
            "tf.Tensor(\n",
            "[[1 2 3]\n",
            " [4 5 6]], shape=(2, 3), dtype=int32)\n",
            "\n",
            "value of some_matrix is:\n",
            " [[1 2 3]\n",
            " [4 5 6]]\n"
          ]
        }
      ],
      "source": [
        "#EXP-1 Dimensions Creating and manipulating tensors\n",
        "from __future__ import print_function\n",
        "import tensorflow as tf\n",
        "\n",
        "\n",
        "import tensorflow as tf\n",
        "\n",
        "primes = tf.constant([2, 3, 5, 7, 11, 13], dtype=tf.int32)\n",
        "print(\"primes:\", primes)\n",
        "\n",
        "ones = tf.ones([6], dtype=tf.int32)\n",
        "print(\"ones:\", ones)\n",
        "\n",
        "just_beyond_primes = tf.add(primes, ones)\n",
        "print(\"just_beyond_primes:\", just_beyond_primes)\n",
        "\n",
        "twos = tf.constant([2, 2, 2, 2, 2, 2], dtype=tf.int32)\n",
        "primes_doubled = primes * twos\n",
        "print(\"primes_doubled:\", primes_doubled)\n",
        "\n",
        "some_matrix = tf.constant([[1, 2, 3], [4, 5, 6]], dtype=tf.int32)\n",
        "print(some_matrix)\n",
        "\n",
        "print(\"\\nvalue of some_matrix is:\\n\", some_matrix.numpy())\n",
        "\n"
      ]
    },
    {
      "cell_type": "code",
      "source": [
        "#EXP-2 Train and evaluate\n",
        "import tensorflow as tf\n",
        "from tensorflow.keras.datasets import mnist\n",
        "from tensorflow.keras.models import Sequential\n",
        "from tensorflow.keras.layers import Dense, Flatten\n",
        "from tensorflow.keras.utils import to_categorical\n",
        "# Load and preprocess the MNIST dataset\n",
        "(x_train, y_train), (x_test, y_test) = mnist.load_data()\n",
        "x_train, x_test = x_train / 255.0, x_test / 255.0\n",
        "y_train, y_test = to_categorical(y_train, 10), to_categorical(y_test, 10)\n",
        "model = Sequential([\n",
        " Flatten(input_shape=(28, 28)),\n",
        " Dense(128, activation='relu'),\n",
        " Dense(64, activation='relu'),\n",
        " Dense(10, activation='softmax')\n",
        "])\n",
        "model.compile(optimizer='adam',loss='categorical_crossentropy',metrics=['accuracy'])\n",
        "model.fit(x_train, y_train, epochs=5, batch_size=32, validation_split=0.2)\n",
        "test_loss, test_accuracy = model.evaluate(x_test, y_test)\n",
        "print(f\"Test accuracy: {test_accuracy:.4f}\")\n"
      ],
      "metadata": {
        "colab": {
          "base_uri": "https://localhost:8080/"
        },
        "id": "i6tjRvO7CG3d",
        "outputId": "ea343b98-1a77-43de-94fe-7bca5aa4f802"
      },
      "execution_count": null,
      "outputs": [
        {
          "output_type": "stream",
          "name": "stdout",
          "text": [
            "Downloading data from https://storage.googleapis.com/tensorflow/tf-keras-datasets/mnist.npz\n",
            "11490434/11490434 [==============================] - 0s 0us/step\n",
            "Epoch 1/5\n",
            "1500/1500 [==============================] - 6s 3ms/step - loss: 0.2692 - accuracy: 0.9228 - val_loss: 0.1412 - val_accuracy: 0.9575\n",
            "Epoch 2/5\n",
            "1500/1500 [==============================] - 6s 4ms/step - loss: 0.1120 - accuracy: 0.9665 - val_loss: 0.1044 - val_accuracy: 0.9667\n",
            "Epoch 3/5\n",
            "1500/1500 [==============================] - 5s 3ms/step - loss: 0.0776 - accuracy: 0.9762 - val_loss: 0.1066 - val_accuracy: 0.9693\n",
            "Epoch 4/5\n",
            "1500/1500 [==============================] - 5s 3ms/step - loss: 0.0580 - accuracy: 0.9820 - val_loss: 0.0981 - val_accuracy: 0.9712\n",
            "Epoch 5/5\n",
            "1500/1500 [==============================] - 6s 4ms/step - loss: 0.0447 - accuracy: 0.9851 - val_loss: 0.0916 - val_accuracy: 0.9764\n",
            "313/313 [==============================] - 1s 2ms/step - loss: 0.0798 - accuracy: 0.9760\n",
            "Test accuracy: 0.9760\n"
          ]
        }
      ]
    },
    {
      "cell_type": "code",
      "source": [
        "#EXP-3 Binary classification\n",
        "import numpy as np\n",
        "import tensorflow as tf\n",
        "from tensorflow.keras.models import Sequential\n",
        "from tensorflow.keras.layers import Dense,Input\n",
        "from sklearn.model_selection import train_test_split\n",
        "from sklearn.metrics import accuracy_score\n",
        "np.random.seed(42)\n",
        "X = np.random.rand(1000, 2)\n",
        "y = (X[:, 0] + X[:, 1] > 1).astype(int)\n",
        "X_train, X_test, y_train, y_test = train_test_split(X, y, test_size=0.2,\n",
        "random_state=42)\n",
        "model = Sequential([Input(shape=(2)),Dense(64, activation='relu'),Dense(1,\n",
        "activation='sigmoid')])\n",
        "model.compile(optimizer='adam',loss='binary_crossentropy',metrics=['accuracy'])\n",
        "model.fit(X_train, y_train, epochs=10, batch_size=32, validation_split=0.2)\n",
        "y_pred = model.predict(X_test)\n",
        "y_pred_binary = (y_pred > 0.5).astype(int)\n",
        "test_accuracy = accuracy_score(y_test, y_pred_binary)\n",
        "print(f\"Test accuracy: {test_accuracy:.4f}\")"
      ],
      "metadata": {
        "colab": {
          "base_uri": "https://localhost:8080/"
        },
        "id": "76Fdm4KvCY9l",
        "outputId": "04c3ffba-1797-4a70-9363-dfcf2c6d0842"
      },
      "execution_count": null,
      "outputs": [
        {
          "output_type": "stream",
          "name": "stdout",
          "text": [
            "Epoch 1/10\n",
            "20/20 [==============================] - 1s 23ms/step - loss: 0.6965 - accuracy: 0.4453 - val_loss: 0.6844 - val_accuracy: 0.6500\n",
            "Epoch 2/10\n",
            "20/20 [==============================] - 0s 8ms/step - loss: 0.6797 - accuracy: 0.6031 - val_loss: 0.6638 - val_accuracy: 0.6438\n",
            "Epoch 3/10\n",
            "20/20 [==============================] - 0s 8ms/step - loss: 0.6656 - accuracy: 0.5969 - val_loss: 0.6453 - val_accuracy: 0.6375\n",
            "Epoch 4/10\n",
            "20/20 [==============================] - 0s 10ms/step - loss: 0.6506 - accuracy: 0.6438 - val_loss: 0.6287 - val_accuracy: 0.6938\n",
            "Epoch 5/10\n",
            "20/20 [==============================] - 0s 6ms/step - loss: 0.6343 - accuracy: 0.6828 - val_loss: 0.6122 - val_accuracy: 0.7125\n",
            "Epoch 6/10\n",
            "20/20 [==============================] - 0s 7ms/step - loss: 0.6163 - accuracy: 0.7125 - val_loss: 0.5938 - val_accuracy: 0.7688\n",
            "Epoch 7/10\n",
            "20/20 [==============================] - 0s 8ms/step - loss: 0.5959 - accuracy: 0.7469 - val_loss: 0.5723 - val_accuracy: 0.7812\n",
            "Epoch 8/10\n",
            "20/20 [==============================] - 0s 14ms/step - loss: 0.5737 - accuracy: 0.7906 - val_loss: 0.5507 - val_accuracy: 0.8125\n",
            "Epoch 9/10\n",
            "20/20 [==============================] - 0s 14ms/step - loss: 0.5503 - accuracy: 0.8141 - val_loss: 0.5276 - val_accuracy: 0.8500\n",
            "Epoch 10/10\n",
            "20/20 [==============================] - 0s 8ms/step - loss: 0.5253 - accuracy: 0.8516 - val_loss: 0.5054 - val_accuracy: 0.9125\n",
            "7/7 [==============================] - 0s 3ms/step\n",
            "Test accuracy: 0.8450\n"
          ]
        }
      ]
    },
    {
      "cell_type": "code",
      "source": [
        "EXP-4 Overfitting and underfitting\n",
        "from sklearn.metrics import mean_absolute_error\n",
        "from sklearn.tree import DecisionTreeRegressor\n",
        "def get_mae(max_leaf_nodes, train_X, val_X, train_y, val_y):\n",
        "  model = DecisionTreeRegressor(max_leaf_nodes=max_leaf_nodes, random_state=0)\n",
        "  model.fit(train_X, train_y)\n",
        "  preds_val = model.predict(val_X)\n",
        "  mae = mean_absolute_error(val_y, preds_val)\n",
        "  return(mae)\n",
        "import pandas as pd\n",
        "# Load data\n",
        "melbourne_file_path ='../input/melbourne-housing-snapshot/melb_data.csv'\n",
        "melbourne_data=pd.read_csv('melb_data.csv')\n",
        "# Filter rows with missing values\n",
        "filtered_melbourne_data = melbourne_data.dropna (axis=0)\n",
        "# Choose target and features\n",
        "y = filtered_melbourne_data. Price\n",
        "melbourne_features = ['Rooms', 'Bathroom', 'Landsize', 'BuildingArea', 'YearBuilt', 'Lattitude', 'Longtitude']\n",
        "X =filtered_melbourne_data[melbourne_features]\n",
        "from sklearn.model_selection import train_test_split\n",
        "# split data into training and validation data, for both features and target\n",
        "train_X, val_X, train_y, val_y = train_test_split(X, y, random_state = 0)\n",
        "for max_leaf_nodes in [5, 50, 500, 5000]:\n",
        "  my_mae = get_mae (max_leaf_nodes, train_X, val_X, train_y, val_y)\n",
        "  print(\"Max leaf nodes: %d \\t\\t Mean Absolute Error: %d\" % (max_leaf_nodes, my_mae))"
      ],
      "metadata": {
        "colab": {
          "base_uri": "https://localhost:8080/"
        },
        "id": "6U71VqM4CnX3",
        "outputId": "baad9c26-1e97-4f86-e4a4-828e63762a72"
      },
      "execution_count": null,
      "outputs": [
        {
          "output_type": "stream",
          "name": "stdout",
          "text": [
            "Max leaf nodes: 5 \t\t Mean Absolute Error: 363949\n",
            "Max leaf nodes: 50 \t\t Mean Absolute Error: 257996\n",
            "Max leaf nodes: 500 \t\t Mean Absolute Error: 258871\n",
            "Max leaf nodes: 5000 \t\t Mean Absolute Error: 273153\n"
          ]
        }
      ]
    },
    {
      "cell_type": "code",
      "source": [
        "EXP-5 Regression\n",
        "import numpy as np\n",
        "import matplotlib.pyplot as plt\n",
        "def estimate_coef(x, y):\n",
        "    n = np.size(x)\n",
        "    m_x= np.mean(x)\n",
        "    m_y=np.mean(y)\n",
        "    SS_xy =np.sum(y*x)-n*m_y*m_x\n",
        "    SS_xx =np.sum(x*x)-n*m_x*m_x\n",
        "    b_1 = SS_xy / SS_xx\n",
        "    b_0 = m_y-b_1*m_x\n",
        "    return(b_0,b_1)\n",
        "def plot_regression_line(x, y, b):\n",
        "    plt.scatter(x, y, color=\"m\",marker=\"o\",s=30)\n",
        "    y_pred=b[0]+b[1]*x\n",
        "    plt.plot(x,y_pred,color=\"g\")\n",
        "    plt.xlabel('x')\n",
        "    plt.ylabel('y')\n",
        "    plt.show()\n",
        "def main():\n",
        "    x = np.array([0, 1, 2, 3, 4, 5, 6, 7, 8, 9])\n",
        "    y = np.array([1, 3, 2, 5, 7, 8, 8, 9, 10, 12])\n",
        "    b= estimate_coef (x, y)\n",
        "    print(\"Estimated coefficients: \\nb_0)={}\\\\ nb_1= {}\".format(b[0], b[1]))\n",
        "    plot_regression_line (x,y,b)\n",
        "if __name__==\"__main__\":\n",
        "    main()"
      ],
      "metadata": {
        "colab": {
          "base_uri": "https://localhost:8080/",
          "height": 484
        },
        "id": "3vE0RD1eDOkl",
        "outputId": "048fc82c-e2df-4810-e1ff-25639edad198"
      },
      "execution_count": null,
      "outputs": [
        {
          "output_type": "stream",
          "name": "stdout",
          "text": [
            "Estimated coefficients: \n",
            "b_0)=1.2363636363636363\\ nb_1= 1.1696969696969697\n"
          ]
        },
        {
          "output_type": "display_data",
          "data": {
            "text/plain": [
              "<Figure size 640x480 with 1 Axes>"
            ],
            "image/png": "[encoded data removed]"
          },
          "metadata": {}
        }
      ]
    },
    {
      "cell_type": "code",
      "source": [
        "EXP-6 Recuurent neural network\n",
        "import tensorflow as tf\n",
        "from tensorflow import keras\n",
        "input_shape = (10, 1)\n",
        "model = keras.Sequential([\n",
        "    keras.layers.SimpleRNN(32, input_shape=input_shape),\n",
        "    keras.layers.Dense(1)\n",
        "])\n",
        "model.compile(optimizer='adam', loss='mse')\n",
        "import numpy as np\n",
        "\n",
        "X_train = np.random.randn(100, 10, 1)\n",
        "y_train = np.random.randn(100, 1)\n",
        "\n",
        "model.fit(X_train, y_train, epochs=10, batch_size=32)\n",
        "X_test = np.random.randn(10, 10, 1)\n",
        "y_test = np.random.randn(10, 1)\n",
        "\n",
        "model.evaluate(X_test, y_test)"
      ],
      "metadata": {
        "colab": {
          "base_uri": "https://localhost:8080/"
        },
        "id": "VKDqhpyfDYzv",
        "outputId": "97e1c239-ffbd-47af-9096-e715558adf73"
      },
      "execution_count": null,
      "outputs": [
        {
          "output_type": "stream",
          "name": "stdout",
          "text": [
            "Epoch 1/10\n",
            "4/4 [==============================] - 2s 5ms/step - loss: 0.9603\n",
            "Epoch 2/10\n",
            "4/4 [==============================] - 0s 4ms/step - loss: 0.8918\n",
            "Epoch 3/10\n",
            "4/4 [==============================] - 0s 4ms/step - loss: 0.8569\n",
            "Epoch 4/10\n",
            "4/4 [==============================] - 0s 5ms/step - loss: 0.8362\n",
            "Epoch 5/10\n",
            "4/4 [==============================] - 0s 5ms/step - loss: 0.8312\n",
            "Epoch 6/10\n",
            "4/4 [==============================] - 0s 5ms/step - loss: 0.8239\n",
            "Epoch 7/10\n",
            "4/4 [==============================] - 0s 4ms/step - loss: 0.8176\n",
            "Epoch 8/10\n",
            "4/4 [==============================] - 0s 4ms/step - loss: 0.8099\n",
            "Epoch 9/10\n",
            "4/4 [==============================] - 0s 4ms/step - loss: 0.8022\n",
            "Epoch 10/10\n",
            "4/4 [==============================] - 0s 4ms/step - loss: 0.7962\n",
            "1/1 [==============================] - 0s 194ms/step - loss: 0.5314\n"
          ]
        },
        {
          "output_type": "execute_result",
          "data": {
            "text/plain": [
              "0.5313816666603088"
            ]
          },
          "metadata": {},
          "execution_count": 7
        }
      ]
    },
    {
      "cell_type": "code",
      "source": [
        "#EXP-7 Image captioning\n",
        "# importing required libraries\n",
        "import urllib\n",
        "import requests\n",
        "import os\n",
        "\n",
        "# retrieving using image url\n",
        "urllib.request.urlretrieve(\"https://i.ibb.co/xY4DJJ5/img1.jpg\", \"img1.jpg\")\n",
        "urllib.request.urlretrieve(\"https://i.ibb.co/Gnd1Y1L/img2.jpg\", \"img2.jpg\")\n",
        "urllib.request.urlretrieve(\"https://i.ibb.co/Z6JgS1L/img3.jpg\", \"img3.jpg\")\n",
        "\n",
        "print('Images downloaded')\n",
        "\n",
        "# get current working directory path\n",
        "path = os.getcwd()\n",
        "\n",
        "captionarr = [\n",
        "    \"This is the first caption\",\n",
        "    \"This is the second caption\",\n",
        "    \"This is the third caption\"\n",
        "    ]\n",
        "    # importing necessary functions from PIL\n",
        "from PIL import Image\n",
        "from PIL import ImageFont\n",
        "from PIL import ImageDraw\n",
        "\n",
        "print(os.getcwd())\n",
        "\n",
        "# checking the file mime types if\n",
        "# it is jpg, png or jpeg\n",
        "def ext(file):\n",
        "    index = file.find(\".jpg\")\n",
        "    current_file = \"\"\n",
        "    current_file = file[index:]\n",
        "    return current_file\n",
        "\n",
        "def ext2(file):\n",
        "    index = file.find(\".jpeg\")\n",
        "    current_file = \"\"\n",
        "    current_file = file[index:]\n",
        "    return current_file\n",
        "\n",
        "def ext3(file):\n",
        "    index = file.find(\".png\")\n",
        "    current_file = \"\"\n",
        "    current_file = file[index:]\n",
        "    return current_file\n",
        "\n",
        "# converting text from lowercase to uppercase\n",
        "def convert(words):\n",
        "    s = \"\"\n",
        "    for word in words:\n",
        "        s += word.upper()\n",
        "    return s\n",
        "\n",
        "caption_first = convert(captionarr[0])\n",
        "caption_second = convert(captionarr[1])\n",
        "caption_third = convert(captionarr[2])\n",
        "\n",
        "print(caption_first)\n",
        "print(caption_second)\n",
        "print(caption_third)\n",
        "\n",
        "count = 0\n",
        "\n",
        "for f in os.listdir('.'):\n",
        "    try:\n",
        "        # Checking for file types if jpg, png\n",
        "        # or jpeg excluding other files\n",
        "        if (ext(f) == '.jpg' or ext2(f) == '.jpeg' or ext3(f) == '.png'):\n",
        "            img = Image.open(f)\n",
        "            width, height = img.size\n",
        "            basewidth = 1200\n",
        "            # print(height)\n",
        "\n",
        "            # Resizing images to same width height\n",
        "            wpercent = (basewidth / float(img.size[0]))\n",
        "            hsize = int((float(img.size[1])*float(wpercent)))\n",
        "            img = img.resize((basewidth, hsize), Image.ANTIALIAS)\n",
        "            new_width, new_height = img.size\n",
        "\n",
        "            # print(new_height)\n",
        "            # changing image mode if not in RGB\n",
        "            if not img.mode == 'RGB':\n",
        "                img = img.convert('RGB')\n",
        "\n",
        "            draw = ImageDraw.Draw(img)\n",
        "            # font = ImageFont.truetype(<font-file>, <font-size>)\n",
        "            # initializing which font will be chosen by us\n",
        "            font = ImageFont.truetype(\"Arial Bold.ttf\", 35)\n",
        "\n",
        "             # First Caption on First image\n",
        "            if count == 0:\n",
        "                draw.text((new_width / 15 + 25, new_height - 100),\n",
        "                           caption_first, (255, 0, 0), font = font,\n",
        "                           align =\"center\")\n",
        "\n",
        "            # Second Caption on Second image\n",
        "            elif count == 1:\n",
        "                draw.text((new_width / 15 + 25, new_height - 100),\n",
        "                          caption_second, (255, 0, 0), font = font,\n",
        "                          align =\"center\")\n",
        "\n",
        "            # Third Caption on Third image\n",
        "            else:\n",
        "                draw.text(( new_width / 15 + 25, new_height - 100),\n",
        "                            caption_third, (255, 0, 0), font = font,\n",
        "                            align =\"center\")\n",
        "\n",
        "            img.save(\"CaptionedImges/{}\".format(f))\n",
        "            print('done')\n",
        "            count = count + 1\n",
        "\n",
        "    except OSError:\n",
        "        pass\n",
        "        import os\n",
        "import glob\n",
        "import shutil\n",
        "\n",
        "\n",
        "fnames = []\n",
        "for file in os.listdir('.'):\n",
        "    # appending files in directory to the frames arr\n",
        "    fnames.append(file)\n",
        "fnames.sort(key = lambda x: os.stat(x).st_ctime, reverse = True)"
      ],
      "metadata": {
        "colab": {
          "base_uri": "https://localhost:8080/"
        },
        "id": "a0XRc2pJDgBm",
        "outputId": "6ed7745e-a4e0-48e7-ed32-62dc5e24fdc2"
      },
      "execution_count": null,
      "outputs": [
        {
          "output_type": "stream",
          "name": "stdout",
          "text": [
            "Images downloaded\n",
            "/content\n",
            "THIS IS THE FIRST CAPTION\n",
            "THIS IS THE SECOND CAPTION\n",
            "THIS IS THE THIRD CAPTION\n"
          ]
        },
        {
          "output_type": "stream",
          "name": "stderr",
          "text": [
            "<ipython-input-8-b790cf80c9e2>:78: DeprecationWarning: ANTIALIAS is deprecated and will be removed in Pillow 10 (2023-07-01). Use LANCZOS or Resampling.LANCZOS instead.\n",
            "  img = img.resize((basewidth, hsize), Image.ANTIALIAS)\n"
          ]
        }
      ]
    },
    {
      "cell_type": "code",
      "source": [
        "#EXP-8 Text to speech\n",
        "!pip install gTTS\n",
        "from gtts import gTTS\n",
        "text_to_say=\"Welcome to the Text to Speech conversion session at Kalasalingam University\"\n",
        "language = 'en'\n",
        "gtts_object = gTTS(text = text_to_say, lang = language, slow = False)\n",
        "gtts_object.save(\"/content/gtts.wav\")\n",
        "from IPython.display import Audio\n",
        "Audio(\"/content/gtts.wav\")"
      ],
      "metadata": {
        "colab": {
          "base_uri": "https://localhost:8080/",
          "height": 249
        },
        "id": "asBVHRErDmE1",
        "outputId": "4d019db0-1f97-4359-d890-970f2377eef9"
      },
      "execution_count": null,
      "outputs": [
        {
          "output_type": "stream",
          "name": "stdout",
          "text": [
            "Collecting gTTS\n",
            "  Downloading gTTS-2.4.0-py3-none-any.whl (29 kB)\n",
            "Requirement already satisfied: requests<3,>=2.27 in /usr/local/lib/python3.10/dist-packages (from gTTS) (2.31.0)\n",
            "Requirement already satisfied: click<8.2,>=7.1 in /usr/local/lib/python3.10/dist-packages (from gTTS) (8.1.7)\n",
            "Requirement already satisfied: charset-normalizer<4,>=2 in /usr/local/lib/python3.10/dist-packages (from requests<3,>=2.27->gTTS) (3.3.2)\n",
            "Requirement already satisfied: idna<4,>=2.5 in /usr/local/lib/python3.10/dist-packages (from requests<3,>=2.27->gTTS) (3.6)\n",
            "Requirement already satisfied: urllib3<3,>=1.21.1 in /usr/local/lib/python3.10/dist-packages (from requests<3,>=2.27->gTTS) (2.0.7)\n",
            "Requirement already satisfied: certifi>=2017.4.17 in /usr/local/lib/python3.10/dist-packages (from requests<3,>=2.27->gTTS) (2023.11.17)\n",
            "Installing collected packages: gTTS\n",
            "Successfully installed gTTS-2.4.0\n"
          ]
        },
        {
          "output_type": "execute_result",
          "data": {
            "text/plain": [
              "<IPython.lib.display.Audio object>"
            ],
            "text/html": [
              "\n",
              "                <audio  controls=\"controls\" >\n",
              "                    <source src=\"data:audio/x-wav;base64,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\" type=\"audio/x-wav\" />\n",
              "                    Your browser does not support the audio element.\n",
              "                </audio>\n",
              "              "
            ]
          },
          "metadata": {},
          "execution_count": 9
        }
      ]
    },
    {
      "cell_type": "code",
      "source": [
        "EXP-9 Convolutional neural network\n",
        "import tensorflow as tf\n",
        "from tensorflow.keras.datasets import mnist\n",
        "from tensorflow.keras.models import Sequential\n",
        "from tensorflow.keras.layers import Conv2D, MaxPooling2D, Flatten, Dense, Dropout\n",
        "from tensorflow.keras.utils import to_categorical\n",
        "# Load and preprocess the dataset\n",
        "(x_train, y_train), (x_test, y_test) = mnist.load_data()\n",
        "x_train = x_train.reshape(x_train.shape[0], 28, 28, 1).astype('float32') / 255\n",
        "x_test = x_test.reshape(x_test.shape[0], 28, 28, 1).astype('float32') / 255\n",
        "y_train = to_categorical(y_train, 10)\n",
        "y_test = to_categorical(y_test, 10)\n",
        "# Build the CNN model\n",
        "model = Sequential()\n",
        "model.add(Conv2D(32, kernel_size=(3, 3), activation='relu',\n",
        "input_shape=(28, 28, 1)))\n",
        "model.add(MaxPooling2D(pool_size=(2, 2)))\n",
        "model.add(Conv2D(64, kernel_size=(3, 3), activation='relu'))\n",
        "model.add(MaxPooling2D(pool_size=(2, 2)))\n",
        "model.add(Flatten())\n",
        "model.add(Dense(128, activation='relu'))\n",
        "model.add(Dropout(0.5))\n",
        "model.add(Dense(10, activation='softmax'))\n",
        "# Compile the model\n",
        "model.compile(loss='categorical_crossentropy', optimizer='adam',\n",
        "metrics=['accuracy'])\n",
        "# Train the model\n",
        "model.fit(x_train, y_train, validation_data=(x_test, y_test), epochs=10,\n",
        "batch_size=200, verbose=2)\n",
        "# Evaluate the model\n",
        "test_loss, test_acc = model.evaluate(x_test, y_test, verbose=0)\n",
        "print(f'Test accuracy: {test_acc*100:.2f}%')"
      ],
      "metadata": {
        "colab": {
          "base_uri": "https://localhost:8080/"
        },
        "id": "dcuvGQ24Dvko",
        "outputId": "574f2451-63b6-47a4-8855-214cce60e213"
      },
      "execution_count": null,
      "outputs": [
        {
          "output_type": "stream",
          "name": "stdout",
          "text": [
            "Epoch 1/10\n",
            "300/300 - 47s - loss: 0.3562 - accuracy: 0.8925 - val_loss: 0.0693 - val_accuracy: 0.9775 - 47s/epoch - 157ms/step\n",
            "Epoch 2/10\n",
            "300/300 - 39s - loss: 0.1134 - accuracy: 0.9663 - val_loss: 0.0499 - val_accuracy: 0.9835 - 39s/epoch - 129ms/step\n",
            "Epoch 3/10\n",
            "300/300 - 39s - loss: 0.0807 - accuracy: 0.9764 - val_loss: 0.0386 - val_accuracy: 0.9862 - 39s/epoch - 132ms/step\n",
            "Epoch 4/10\n",
            "300/300 - 41s - loss: 0.0657 - accuracy: 0.9801 - val_loss: 0.0331 - val_accuracy: 0.9888 - 41s/epoch - 137ms/step\n",
            "Epoch 5/10\n",
            "300/300 - 39s - loss: 0.0565 - accuracy: 0.9832 - val_loss: 0.0287 - val_accuracy: 0.9902 - 39s/epoch - 132ms/step\n",
            "Epoch 6/10\n",
            "300/300 - 42s - loss: 0.0488 - accuracy: 0.9858 - val_loss: 0.0261 - val_accuracy: 0.9911 - 42s/epoch - 141ms/step\n",
            "Epoch 7/10\n",
            "300/300 - 39s - loss: 0.0428 - accuracy: 0.9872 - val_loss: 0.0256 - val_accuracy: 0.9916 - 39s/epoch - 131ms/step\n",
            "Epoch 8/10\n",
            "300/300 - 40s - loss: 0.0379 - accuracy: 0.9880 - val_loss: 0.0247 - val_accuracy: 0.9918 - 40s/epoch - 132ms/step\n",
            "Epoch 9/10\n",
            "300/300 - 40s - loss: 0.0348 - accuracy: 0.9895 - val_loss: 0.0220 - val_accuracy: 0.9919 - 40s/epoch - 133ms/step\n",
            "Epoch 10/10\n",
            "300/300 - 40s - loss: 0.0315 - accuracy: 0.9897 - val_loss: 0.0238 - val_accuracy: 0.9915 - 40s/epoch - 133ms/step\n",
            "Test accuracy: 99.15%\n"
          ]
        }
      ]
    },
    {
      "cell_type": "code",
      "source": [
        "#EXP-10 Sequence classification\n",
        "import numpy as np\n",
        "import tensorflow as tf\n",
        "from tensorflow.keras.models import Sequential\n",
        "from tensorflow.keras.layers import Embedding, LSTM, Dense\n",
        "from tensorflow.keras.preprocessing.text import Tokenizer\n",
        "from tensorflow.keras.preprocessing.sequence import pad_sequences\n",
        "\n",
        "# Sample data: sentences and their corresponding labels\n",
        "sentences = [ \"I love this product\", \"This is terrible\", \"Great job!\", \"Not good at all\", \"Awesome stuff\" ]\n",
        "labels = [1, 0, 1, 0, 1]\n",
        "\n",
        "# Tokenize the text data:\n",
        "tokenizer = Tokenizer(num_words=1000, oov_token=\"\")\n",
        "tokenizer.fit_on_texts(sentences)\n",
        "word_index = tokenizer.word_index\n",
        "\n",
        "# Convert sentences to sequences of integers\n",
        "sequences = tokenizer.texts_to_sequences(sentences)\n",
        "\n",
        "# Pad sequences to have the same length\n",
        "max_sequence_length = max([len(seq) for seq in sequences])\n",
        "sequences_padded = pad_sequences(sequences, maxlen=max_sequence_length, padding=\"post\")\n",
        "\n",
        "# Define the model\n",
        "model = Sequential()\n",
        "model.add(Embedding(input_dim=len(word_index) + 1, output_dim=64, input_length=max_sequence_length))\n",
        "model.add(LSTM(64))\n",
        "model.add(Dense(1, activation=\"sigmoid\"))\n",
        "\n",
        "# Compile the model\n",
        "model.compile(loss=\"binary_crossentropy\", optimizer=\"adam\", metrics=[\"accuracy\"])\n",
        "\n",
        "# Test sentences for predictions\n",
        "test_sentences = [\n",
        "    \"This is amazing\",\n",
        "    \"Absolutely awful\",\n",
        "    \"Well done!\",\n",
        "    \"Very disappointing\"\n",
        "]\n",
        "\n",
        "test_sequences = tokenizer.texts_to_sequences(test_sentences)\n",
        "test_sequences_padded = pad_sequences(test_sequences, maxlen=max_sequence_length, padding=\"post\")\n",
        "\n",
        "# Make predictions\n",
        "predictions = model.predict(test_sequences_padded)\n",
        "\n",
        "# Print the predictions\n",
        "for i, sentence in enumerate(test_sentences):\n",
        "    sentiment = \"Positive\" if predictions[i] > 0.5 else \"Negative\"\n",
        "    print(f\"Sentence: '{sentence}' - Sentiment: {sentiment} ({predictions[i][0]:.2f})\")\n"
      ],
      "metadata": {
        "colab": {
          "base_uri": "https://localhost:8080/"
        },
        "id": "15b4MBMPFufN",
        "outputId": "27864aa7-ad65-48bc-c715-4535cde2c476"
      },
      "execution_count": null,
      "outputs": [
        {
          "output_type": "stream",
          "name": "stdout",
          "text": [
            "1/1 [==============================] - 1s 696ms/step\n",
            "Sentence: 'This is amazing' - Sentiment: Negative (0.49)\n",
            "Sentence: 'Absolutely awful' - Sentiment: Negative (0.49)\n",
            "Sentence: 'Well done!' - Sentiment: Negative (0.49)\n",
            "Sentence: 'Very disappointing' - Sentiment: Negative (0.49)\n"
          ]
        }
      ]
    },
    {
      "cell_type": "code",
      "source": [
        "#EXP-11 Generative adversarial network\n",
        "import numpy as np\n",
        "import matplotlib.pyplot as plt\n",
        "from tensorflow.keras.layers import Dense, Flatten, Reshape\n",
        "from tensorflow.keras.models import Sequential\n",
        "from tensorflow.keras.optimizers import Adam\n",
        "# Define the generator model\n",
        "def build_generator(latent_dim):\n",
        " model = Sequential()\n",
        " model.add(Dense(128, input_dim=latent_dim, activation='relu'))\n",
        " model.add(Dense(784, activation='sigmoid'))\n",
        " model.add(Reshape((28, 28, 1)))\n",
        " return model\n",
        "# Define the discriminator model\n",
        "def build_discriminator(input_shape):\n",
        " model = Sequential()\n",
        " model.add(Flatten(input_shape=input_shape))\n",
        " model.add(Dense(128, activation='relu'))\n",
        " model.add(Dense(1, activation='sigmoid'))\n",
        " return model\n",
        "# Define the GAN model that combines the generator and discriminator\n",
        "def build_gan(generator, discriminator):\n",
        " discriminator.trainable = False\n",
        " model = Sequential()\n",
        " model.add(generator)\n",
        " model.add(discriminator)\n",
        " return model\n",
        "# Load and preprocess the dataset (e.g., MNIST)\n",
        "from tensorflow.keras.datasets import mnist\n",
        "(X_train, _), (_, _) = mnist.load_data()\n",
        "X_train = X_train / 255.0 # Normalize pixel values to the range [0, 1]\n",
        "X_train = X_train.reshape(X_train.shape[0], 28, 28, 1)\n",
        "# Set hyperparameters\n",
        "latent_dim = 100\n",
        "epochs = 100\n",
        "batch_size = 64\n",
        "# Build and compile the generator, discriminator, and GAN models\n",
        "generator = build_generator(latent_dim)\n",
        "discriminator = build_discriminator(X_train[0].shape)\n",
        "gan = build_gan(generator, discriminator)\n",
        "discriminator.compile(loss='binary_crossentropy',\n",
        "optimizer=Adam(lr=0.0002, beta_1=0.5))\n",
        "gan.compile(loss='binary_crossentropy', optimizer=Adam(lr=0.0002,\n",
        "beta_1=0.5))\n",
        "# Training loop\n",
        "for epoch in range(epochs):\n",
        " # Train discriminator\n",
        " idx = np.random.randint(0, X_train.shape[0], batch_size)\n",
        " real_images = X_train[idx]\n",
        " labels_real = np.ones((batch_size, 1))\n",
        " labels_fake = np.zeros((batch_size, 1))\n",
        " noise = np.random.normal(0, 1, (batch_size, latent_dim))\n",
        " generated_images = generator.predict(noise)\n",
        " d_loss_real = discriminator.train_on_batch(real_images, labels_real)\n",
        " d_loss_fake = discriminator.train_on_batch(generated_images,\n",
        "labels_fake)\n",
        " d_loss = 0.5 * np.add(d_loss_real, d_loss_fake)\n",
        " # Train generator\n",
        " noise = np.random.normal(0, 1, (batch_size, latent_dim))\n",
        " labels_gan = np.ones((batch_size, 1))\n",
        " g_loss = gan.train_on_batch(noise, labels_gan)\n",
        " # Print progress\n",
        "if (epoch + 1) % 1000 == 0:\n",
        " print(f\"Epoch {epoch + 1}/{epochs} - D Loss: {d_loss} - G Loss: {g_loss}\")\n",
        "\n",
        " # Save generated images at specified intervals\n",
        " if (epoch + 1) % 1000 == 0:\n",
        "  num_samples = 10\n",
        " noise = np.random.normal(0, 1, (num_samples, latent_dim))\n",
        " generated_images = generator.predict(noise)\n",
        " plt.figure(figsize=(10, 2))\n",
        " for i in range(num_samples):\n",
        "  plt.subplot(1, num_samples, i + 1)\n",
        " plt.imshow(generated_images[i].reshape(28, 28), cmap='gray')\n",
        " plt.axis('off')\n",
        " plt.savefig(f\"gan_generated_image_epoch_{epoch + 1}.png\")\n",
        " plt.close()\n",
        "# Generate and save final images\n",
        "num_samples = 10\n",
        "noise = np.random.normal(0, 1, (num_samples, latent_dim))\n",
        "generated_images = generator.predict(noise)\n",
        "plt.figure(figsize=(10, 2))\n",
        "for i in range(num_samples):\n",
        " plt.subplot(1, num_samples, i + 1)\n",
        " plt.imshow(generated_images[i].reshape(28, 28), cmap='gray')\n",
        " plt.axis('off')\n",
        "plt.savefig(\"final_generated_images.png\")\n",
        "plt.show()"
      ],
      "metadata": {
        "colab": {
          "base_uri": "https://localhost:8080/",
          "height": 1000
        },
        "id": "Al83-MYnGI14",
        "outputId": "c94efd03-392d-4166-8a83-0724d2ce5036"
      },
      "execution_count": null,
      "outputs": [
        {
          "output_type": "stream",
          "name": "stderr",
          "text": [
            "WARNING:absl:`lr` is deprecated in Keras optimizer, please use `learning_rate` or use the legacy optimizer, e.g.,tf.keras.optimizers.legacy.Adam.\n",
            "WARNING:absl:`lr` is deprecated in Keras optimizer, please use `learning_rate` or use the legacy optimizer, e.g.,tf.keras.optimizers.legacy.Adam.\n"
          ]
        },
        {
          "output_type": "stream",
          "name": "stdout",
          "text": [
            "2/2 [==============================] - 0s 6ms/step\n",
            "2/2 [==============================] - 0s 6ms/step\n",
            "2/2 [==============================] - 0s 5ms/step\n",
            "2/2 [==============================] - 0s 6ms/step\n",
            "2/2 [==============================] - 0s 5ms/step\n",
            "2/2 [==============================] - 0s 5ms/step\n",
            "2/2 [==============================] - 0s 5ms/step\n",
            "2/2 [==============================] - 0s 7ms/step\n",
            "2/2 [==============================] - 0s 6ms/step\n",
            "2/2 [==============================] - 0s 6ms/step\n",
            "2/2 [==============================] - 0s 5ms/step\n",
            "2/2 [==============================] - 0s 5ms/step\n",
            "2/2 [==============================] - 0s 4ms/step\n",
            "2/2 [==============================] - 0s 5ms/step\n",
            "2/2 [==============================] - 0s 4ms/step\n",
            "2/2 [==============================] - 0s 6ms/step\n",
            "2/2 [==============================] - 0s 5ms/step\n",
            "2/2 [==============================] - 0s 5ms/step\n",
            "2/2 [==============================] - 0s 6ms/step\n",
            "2/2 [==============================] - 0s 5ms/step\n",
            "2/2 [==============================] - 0s 6ms/step\n",
            "2/2 [==============================] - 0s 4ms/step\n",
            "2/2 [==============================] - 0s 6ms/step\n",
            "2/2 [==============================] - 0s 5ms/step\n",
            "2/2 [==============================] - 0s 6ms/step\n",
            "2/2 [==============================] - 0s 6ms/step\n",
            "2/2 [==============================] - 0s 5ms/step\n",
            "2/2 [==============================] - 0s 5ms/step\n",
            "2/2 [==============================] - 0s 5ms/step\n",
            "2/2 [==============================] - 0s 6ms/step\n",
            "2/2 [==============================] - 0s 6ms/step\n",
            "2/2 [==============================] - 0s 5ms/step\n",
            "2/2 [==============================] - 0s 5ms/step\n",
            "2/2 [==============================] - 0s 6ms/step\n",
            "2/2 [==============================] - 0s 5ms/step\n",
            "2/2 [==============================] - 0s 4ms/step\n",
            "2/2 [==============================] - 0s 5ms/step\n",
            "2/2 [==============================] - 0s 5ms/step\n",
            "2/2 [==============================] - 0s 5ms/step\n",
            "2/2 [==============================] - 0s 5ms/step\n",
            "2/2 [==============================] - 0s 5ms/step\n",
            "2/2 [==============================] - 0s 8ms/step\n",
            "2/2 [==============================] - 0s 5ms/step\n",
            "2/2 [==============================] - 0s 5ms/step\n",
            "2/2 [==============================] - 0s 7ms/step\n",
            "2/2 [==============================] - 0s 9ms/step\n",
            "2/2 [==============================] - 0s 5ms/step\n",
            "2/2 [==============================] - 0s 5ms/step\n",
            "2/2 [==============================] - 0s 5ms/step\n",
            "2/2 [==============================] - 0s 5ms/step\n",
            "2/2 [==============================] - 0s 7ms/step\n",
            "2/2 [==============================] - 0s 5ms/step\n",
            "2/2 [==============================] - 0s 13ms/step\n",
            "2/2 [==============================] - 0s 4ms/step\n",
            "2/2 [==============================] - 0s 9ms/step\n",
            "2/2 [==============================] - 0s 5ms/step\n",
            "2/2 [==============================] - 0s 5ms/step\n",
            "2/2 [==============================] - 0s 5ms/step\n",
            "2/2 [==============================] - 0s 5ms/step\n",
            "2/2 [==============================] - 0s 5ms/step\n",
            "2/2 [==============================] - 0s 5ms/step\n",
            "2/2 [==============================] - 0s 5ms/step\n",
            "2/2 [==============================] - 0s 6ms/step\n",
            "2/2 [==============================] - 0s 5ms/step\n",
            "2/2 [==============================] - 0s 5ms/step\n",
            "2/2 [==============================] - 0s 6ms/step\n",
            "2/2 [==============================] - 0s 5ms/step\n",
            "2/2 [==============================] - 0s 7ms/step\n",
            "2/2 [==============================] - 0s 4ms/step\n",
            "2/2 [==============================] - 0s 5ms/step\n",
            "2/2 [==============================] - 0s 6ms/step\n",
            "2/2 [==============================] - 0s 5ms/step\n",
            "2/2 [==============================] - 0s 5ms/step\n",
            "2/2 [==============================] - 0s 4ms/step\n",
            "2/2 [==============================] - 0s 6ms/step\n",
            "2/2 [==============================] - 0s 5ms/step\n",
            "2/2 [==============================] - 0s 7ms/step\n",
            "2/2 [==============================] - 0s 5ms/step\n",
            "2/2 [==============================] - 0s 5ms/step\n",
            "2/2 [==============================] - 0s 4ms/step\n",
            "2/2 [==============================] - 0s 6ms/step\n",
            "2/2 [==============================] - 0s 6ms/step\n",
            "2/2 [==============================] - 0s 5ms/step\n",
            "2/2 [==============================] - 0s 6ms/step\n",
            "2/2 [==============================] - 0s 7ms/step\n",
            "2/2 [==============================] - 0s 5ms/step\n",
            "2/2 [==============================] - 0s 5ms/step\n",
            "2/2 [==============================] - 0s 6ms/step\n",
            "2/2 [==============================] - 0s 5ms/step\n",
            "2/2 [==============================] - 0s 5ms/step\n",
            "2/2 [==============================] - 0s 4ms/step\n",
            "2/2 [==============================] - 0s 5ms/step\n",
            "2/2 [==============================] - 0s 5ms/step\n",
            "2/2 [==============================] - 0s 5ms/step\n",
            "2/2 [==============================] - 0s 5ms/step\n",
            "2/2 [==============================] - 0s 6ms/step\n",
            "2/2 [==============================] - 0s 4ms/step\n",
            "2/2 [==============================] - 0s 5ms/step\n",
            "2/2 [==============================] - 0s 6ms/step\n",
            "2/2 [==============================] - 0s 5ms/step\n",
            "1/1 [==============================] - 0s 59ms/step\n"
          ]
        },
        {
          "output_type": "display_data",
          "data": {
            "text/plain": [
              "<Figure size 1000x200 with 10 Axes>"
            ],
            "image/png": "[encoded data removed]"
          },
          "metadata": {}
        }
      ]
    },
    {
      "cell_type": "code",
      "source": [
        "#EXP-12 LSTM\n",
        "import numpy as np\n",
        "from tensorflow import keras\n",
        "from tensorflow.keras import layers\n",
        "max_features = 20000 # Only consider the top 20k words\n",
        "maxlen = 200 # Only consider the first 200 words of each movie review\n",
        "# Input for variable-length sequences of integers\n",
        "inputs = keras.Input(shape=(None,), dtype=\"int32\")\n",
        "# Embed each integer in a 128-dimensional vector\n",
        "x = layers.Embedding(max_features, 128)(inputs)\n",
        "# Add 2 bidirectional LSTMs\n",
        "x = layers.Bidirectional(layers.LSTM(64, return_sequences=True))(x)\n",
        "x = layers.Bidirectional(layers.LSTM(64))(x)\n",
        "# Add a classifier\n",
        "outputs = layers.Dense(1, activation=\"sigmoid\")(x)\n",
        "model = keras.Model(inputs, outputs)\n",
        "model.summary()\n",
        "(x_train, y_train), (x_val, y_val) = keras.datasets.imdb.load_data(\n",
        "num_words=max_features\n",
        ")\n",
        "print(len(x_train), \"Training sequences\")\n",
        "print(len(x_val), \"Validation sequences\")\n",
        "x_train = keras.preprocessing.sequence.pad_sequences(x_train,\n",
        "maxlen=maxlen)\n",
        "x_val = keras.preprocessing.sequence.pad_sequences(x_val,\n",
        "maxlen=maxlen)\n",
        "model.compile(\"adam\", \"binary_crossentropy\", metrics=[\"accuracy\"])\n",
        "model.fit(x_train, y_train, batch_size=32, epochs=2,\n",
        "validation_data=(x_val, y_val))"
      ],
      "metadata": {
        "colab": {
          "base_uri": "https://localhost:8080/"
        },
        "id": "oPi6D5t0Gd6Z",
        "outputId": "fcde3864-e7d2-4715-fcdc-605baf1f58da"
      },
      "execution_count": null,
      "outputs": [
        {
          "output_type": "stream",
          "name": "stdout",
          "text": [
            "Model: \"model\"\n",
            "_________________________________________________________________\n",
            " Layer (type)                Output Shape              Param #   \n",
            "=================================================================\n",
            " input_2 (InputLayer)        [(None, None)]            0         \n",
            "                                                                 \n",
            " embedding_1 (Embedding)     (None, None, 128)         2560000   \n",
            "                                                                 \n",
            " bidirectional (Bidirection  (None, None, 128)         98816     \n",
            " al)                                                             \n",
            "                                                                 \n",
            " bidirectional_1 (Bidirecti  (None, 128)               98816     \n",
            " onal)                                                           \n",
            "                                                                 \n",
            " dense_21 (Dense)            (None, 1)                 129       \n",
            "                                                                 \n",
            "=================================================================\n",
            "Total params: 2757761 (10.52 MB)\n",
            "Trainable params: 2757761 (10.52 MB)\n",
            "Non-trainable params: 0 (0.00 Byte)\n",
            "_________________________________________________________________\n",
            "Downloading data from https://storage.googleapis.com/tensorflow/tf-keras-datasets/imdb.npz\n",
            "17464789/17464789 [==============================] - 0s 0us/step\n",
            "25000 Training sequences\n",
            "25000 Validation sequences\n",
            "Epoch 1/2\n",
            "782/782 [==============================] - 475s 598ms/step - loss: 0.4199 - accuracy: 0.8078 - val_loss: 0.3336 - val_accuracy: 0.8603\n",
            "Epoch 2/2\n",
            "782/782 [==============================] - 514s 657ms/step - loss: 0.2157 - accuracy: 0.9172 - val_loss: 0.3314 - val_accuracy: 0.8638\n"
          ]
        },
        {
          "output_type": "execute_result",
          "data": {
            "text/plain": [
              "<keras.src.callbacks.History at 0x7a0e03041c90>"
            ]
          },
          "metadata": {},
          "execution_count": 15
        }
      ]
    }
  ]
}